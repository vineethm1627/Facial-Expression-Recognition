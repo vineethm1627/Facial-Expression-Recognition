{
 "cells": [
  {
   "cell_type": "code",
   "execution_count": 1,
   "metadata": {
    "colab": {
     "base_uri": "https://localhost:8080/",
     "height": 102
    },
    "colab_type": "code",
    "id": "fdGq3l7LixC4",
    "outputId": "6de673bd-5631-4281-dac7-f9df05e9e395"
   },
   "outputs": [
    {
     "data": {
      "text/plain": [
       "['.ipynb_checkpoints',\n",
       " 'emotion_recog.ipynb',\n",
       " 'fer.h5',\n",
       " 'fer.json',\n",
       " 'fer2013.csv',\n",
       " 'haarcascade_frontalface_default.xml',\n",
       " 'openCV.ipynb',\n",
       " 'video_tester.ipynb',\n",
       " 'video_tester.py']"
      ]
     },
     "execution_count": 1,
     "metadata": {},
     "output_type": "execute_result"
    }
   ],
   "source": [
    "import os\n",
    "#os.chdir(\"/content/drive/My Drive/Projects/Face_recog\")\n",
    "os.listdir('.')"
   ]
  },
  {
   "cell_type": "code",
   "execution_count": 2,
   "metadata": {
    "colab": {},
    "colab_type": "code",
    "id": "QoiIOOL7ivdr"
   },
   "outputs": [],
   "source": [
    "import sys, os\n",
    "import pandas as pd\n",
    "import numpy as np"
   ]
  },
  {
   "cell_type": "code",
   "execution_count": 3,
   "metadata": {
    "colab": {},
    "colab_type": "code",
    "id": "BD0LxeKwxite"
   },
   "outputs": [
    {
     "name": "stderr",
     "output_type": "stream",
     "text": [
      "WARNING:root:Limited tf.compat.v2.summary API due to missing TensorBoard installation.\n",
      "WARNING:root:Limited tf.compat.v2.summary API due to missing TensorBoard installation.\n",
      "WARNING:root:Limited tf.compat.v2.summary API due to missing TensorBoard installation.\n",
      "WARNING:root:Limited tf.summary API due to missing TensorBoard installation.\n"
     ]
    }
   ],
   "source": [
    "from tensorflow.keras.models import Sequential\n",
    "from tensorflow.keras.layers import Dense, Dropout, Activation, Flatten\n",
    "from tensorflow.keras.layers import Conv2D, MaxPooling2D, BatchNormalization,AveragePooling2D\n",
    "from tensorflow.keras.losses import categorical_crossentropy\n",
    "from tensorflow.keras.optimizers import Adam\n",
    "from tensorflow.keras.regularizers import l2\n",
    "from keras.utils import np_utils\n",
    "# pd.set_option('display.max_rows', 500)\n",
    "# pd.set_option('display.max_columns', 500)\n",
    "# pd.set_option('display.width', 1000)"
   ]
  },
  {
   "cell_type": "code",
   "execution_count": 4,
   "metadata": {
    "colab": {},
    "colab_type": "code",
    "id": "nhoNGatYxmYI"
   },
   "outputs": [],
   "source": [
    "df=pd.read_csv('fer2013.csv')"
   ]
  },
  {
   "cell_type": "code",
   "execution_count": 5,
   "metadata": {
    "colab": {},
    "colab_type": "code",
    "id": "y-DrvVUFxrPq"
   },
   "outputs": [],
   "source": [
    "# print(df.info())\n",
    "# print(df[\"Usage\"].value_counts())\n",
    "\n",
    "# print(df.head())\n",
    "X_train,train_y,X_test,test_y=[],[],[],[]\n",
    "\n",
    "for index, row in df.iterrows():\n",
    "    val=row['pixels'].split(\" \")\n",
    "    try:\n",
    "        if 'Training' in row['Usage']:\n",
    "           X_train.append(np.array(val,'float32'))\n",
    "           train_y.append(row['emotion'])\n",
    "        elif 'PublicTest' in row['Usage']:\n",
    "           X_test.append(np.array(val,'float32'))\n",
    "           test_y.append(row['emotion'])\n",
    "    except:\n",
    "        print(f\"error occured at index :{index} and row:{row}\")\n"
   ]
  },
  {
   "cell_type": "code",
   "execution_count": 6,
   "metadata": {
    "colab": {},
    "colab_type": "code",
    "id": "i84nhaKZx2Bo"
   },
   "outputs": [],
   "source": [
    "num_features = 64\n",
    "num_labels = 7\n",
    "batch_size = 64\n",
    "epochs = 50\n",
    "width, height = 48, 48\n",
    "\n",
    "\n",
    "X_train = np.array(X_train,'float32')\n",
    "train_y = np.array(train_y,'float32')\n",
    "X_test = np.array(X_test,'float32')\n",
    "test_y = np.array(test_y,'float32')\n",
    "\n",
    "train_y=np_utils.to_categorical(train_y, num_classes=num_labels)\n",
    "test_y=np_utils.to_categorical(test_y, num_classes=num_labels)\n",
    "\n",
    "#cannot produce\n",
    "#normalizing data between oand 1\n",
    "X_train -= np.mean(X_train, axis=0)\n",
    "X_train /= np.std(X_train, axis=0)\n",
    "\n",
    "X_test -= np.mean(X_test, axis=0)\n",
    "X_test /= np.std(X_test, axis=0)\n",
    "\n",
    "X_train = X_train.reshape(X_train.shape[0], 48, 48, 1)\n",
    "\n",
    "X_test = X_test.reshape(X_test.shape[0], 48, 48, 1)"
   ]
  },
  {
   "cell_type": "code",
   "execution_count": 7,
   "metadata": {
    "colab": {},
    "colab_type": "code",
    "id": "4nnXgTImQ4lX"
   },
   "outputs": [],
   "source": [
    "model = Sequential()\n",
    "\n",
    "model.add(Conv2D(64, kernel_size=(3, 3), activation='relu', input_shape=(X_train.shape[1:])))\n",
    "model.add(Conv2D(64,kernel_size= (3, 3), activation='relu'))\n",
    "# model.add(BatchNormalization())\n",
    "model.add(MaxPooling2D(pool_size=(2,2), strides=(2, 2)))\n",
    "model.add(Dropout(0.5))\n",
    "\n",
    "#2nd convolution layer\n",
    "model.add(Conv2D(64, (3, 3), activation='relu'))\n",
    "model.add(Conv2D(64, (3, 3), activation='relu'))\n",
    "# model.add(BatchNormalization())\n",
    "model.add(MaxPooling2D(pool_size=(2,2), strides=(2, 2)))\n",
    "model.add(Dropout(0.5))\n",
    "\n",
    "#3rd convolution layer\n",
    "model.add(Conv2D(128, (3, 3), activation='relu'))\n",
    "model.add(Conv2D(128, (3, 3), activation='relu'))\n",
    "# model.add(BatchNormalization())\n",
    "model.add(MaxPooling2D(pool_size=(2,2), strides=(2, 2)))\n",
    "\n",
    "model.add(Flatten())\n",
    "\n",
    "#fully connected neural networks\n",
    "model.add(Dense(1024, activation='relu'))\n",
    "model.add(Dropout(0.2))\n",
    "model.add(Dense(1024, activation='relu'))\n",
    "model.add(Dropout(0.2))\n",
    "\n",
    "model.add(Dense(num_labels, activation='softmax'))"
   ]
  },
  {
   "cell_type": "code",
   "execution_count": 8,
   "metadata": {
    "colab": {
     "base_uri": "https://localhost:8080/",
     "height": 1000
    },
    "colab_type": "code",
    "id": "6_NV-2RsRA9n",
    "outputId": "437bff03-bd5c-4cac-fb58-84380ac964e3"
   },
   "outputs": [
    {
     "name": "stdout",
     "output_type": "stream",
     "text": [
      "Epoch 1/50\n",
      "449/449 [==============================] - 317s 707ms/step - loss: 1.7434 - accuracy: 0.2849 - val_loss: 1.6047 - val_accuracy: 0.3594\n",
      "Epoch 2/50\n",
      "449/449 [==============================] - 312s 694ms/step - loss: 1.5299 - accuracy: 0.4007 - val_loss: 1.4151 - val_accuracy: 0.4556\n",
      "Epoch 3/50\n",
      "449/449 [==============================] - 310s 691ms/step - loss: 1.4173 - accuracy: 0.4460 - val_loss: 1.3193 - val_accuracy: 0.4890\n",
      "Epoch 4/50\n",
      "449/449 [==============================] - 310s 691ms/step - loss: 1.3448 - accuracy: 0.4789 - val_loss: 1.2815 - val_accuracy: 0.5118\n",
      "Epoch 5/50\n",
      "449/449 [==============================] - 321s 715ms/step - loss: 1.2987 - accuracy: 0.5019 - val_loss: 1.2702 - val_accuracy: 0.5160\n",
      "Epoch 6/50\n",
      "449/449 [==============================] - 311s 692ms/step - loss: 1.2580 - accuracy: 0.5152 - val_loss: 1.2308 - val_accuracy: 0.5266\n",
      "Epoch 7/50\n",
      "449/449 [==============================] - 316s 704ms/step - loss: 1.2292 - accuracy: 0.5280 - val_loss: 1.1931 - val_accuracy: 0.5366\n",
      "Epoch 8/50\n",
      "449/449 [==============================] - 342s 762ms/step - loss: 1.2058 - accuracy: 0.5394 - val_loss: 1.1891 - val_accuracy: 0.5394\n",
      "Epoch 9/50\n",
      "449/449 [==============================] - 335s 746ms/step - loss: 1.1811 - accuracy: 0.5449 - val_loss: 1.1658 - val_accuracy: 0.5531\n",
      "Epoch 10/50\n",
      "449/449 [==============================] - 327s 728ms/step - loss: 1.1555 - accuracy: 0.5588 - val_loss: 1.1944 - val_accuracy: 0.5489\n",
      "Epoch 11/50\n",
      "449/449 [==============================] - 319s 710ms/step - loss: 1.1404 - accuracy: 0.5625 - val_loss: 1.1570 - val_accuracy: 0.5534\n",
      "Epoch 12/50\n",
      "449/449 [==============================] - 336s 749ms/step - loss: 1.1208 - accuracy: 0.5715 - val_loss: 1.1863 - val_accuracy: 0.5428\n",
      "Epoch 13/50\n",
      "449/449 [==============================] - 336s 748ms/step - loss: 1.1004 - accuracy: 0.5831 - val_loss: 1.1549 - val_accuracy: 0.5598\n",
      "Epoch 14/50\n",
      "449/449 [==============================] - 346s 771ms/step - loss: 1.0910 - accuracy: 0.5835 - val_loss: 1.1541 - val_accuracy: 0.5723\n",
      "Epoch 15/50\n",
      "449/449 [==============================] - 322s 717ms/step - loss: 1.0705 - accuracy: 0.5912 - val_loss: 1.1628 - val_accuracy: 0.5651\n",
      "Epoch 16/50\n",
      "449/449 [==============================] - 325s 723ms/step - loss: 1.0558 - accuracy: 0.5990 - val_loss: 1.1357 - val_accuracy: 0.5798\n",
      "Epoch 17/50\n",
      "449/449 [==============================] - 319s 710ms/step - loss: 1.0429 - accuracy: 0.6031 - val_loss: 1.1662 - val_accuracy: 0.5648\n",
      "Epoch 18/50\n",
      "449/449 [==============================] - 323s 720ms/step - loss: 1.0293 - accuracy: 0.6078 - val_loss: 1.1597 - val_accuracy: 0.5762\n",
      "Epoch 19/50\n",
      "449/449 [==============================] - 342s 763ms/step - loss: 1.0131 - accuracy: 0.6126 - val_loss: 1.1345 - val_accuracy: 0.5740\n",
      "Epoch 20/50\n",
      "449/449 [==============================] - 331s 737ms/step - loss: 0.9983 - accuracy: 0.6192 - val_loss: 1.1392 - val_accuracy: 0.5715\n",
      "Epoch 21/50\n",
      "449/449 [==============================] - 325s 724ms/step - loss: 0.9835 - accuracy: 0.6231 - val_loss: 1.1609 - val_accuracy: 0.5706\n",
      "Epoch 22/50\n",
      "449/449 [==============================] - 336s 749ms/step - loss: 0.9687 - accuracy: 0.6272 - val_loss: 1.1344 - val_accuracy: 0.5745\n",
      "Epoch 23/50\n",
      "449/449 [==============================] - 416s 927ms/step - loss: 0.9574 - accuracy: 0.6357 - val_loss: 1.1421 - val_accuracy: 0.5807\n",
      "Epoch 24/50\n",
      "449/449 [==============================] - 413s 919ms/step - loss: 0.9393 - accuracy: 0.6424 - val_loss: 1.1647 - val_accuracy: 0.5829\n",
      "Epoch 25/50\n",
      "449/449 [==============================] - 431s 961ms/step - loss: 0.9302 - accuracy: 0.6477 - val_loss: 1.1649 - val_accuracy: 0.5720\n",
      "Epoch 26/50\n",
      "449/449 [==============================] - 339s 756ms/step - loss: 0.9148 - accuracy: 0.6536 - val_loss: 1.1543 - val_accuracy: 0.5729\n",
      "Epoch 27/50\n",
      "449/449 [==============================] - 332s 740ms/step - loss: 0.9007 - accuracy: 0.6560 - val_loss: 1.1855 - val_accuracy: 0.5720\n",
      "Epoch 28/50\n",
      "449/449 [==============================] - 329s 732ms/step - loss: 0.9002 - accuracy: 0.6579 - val_loss: 1.1555 - val_accuracy: 0.5709\n",
      "Epoch 29/50\n",
      "449/449 [==============================] - 328s 730ms/step - loss: 0.8731 - accuracy: 0.6676 - val_loss: 1.1927 - val_accuracy: 0.5779\n",
      "Epoch 30/50\n",
      "449/449 [==============================] - 332s 739ms/step - loss: 0.8675 - accuracy: 0.6723 - val_loss: 1.2127 - val_accuracy: 0.5756\n",
      "Epoch 31/50\n",
      "449/449 [==============================] - 348s 774ms/step - loss: 0.8594 - accuracy: 0.6741 - val_loss: 1.1706 - val_accuracy: 0.5821\n",
      "Epoch 32/50\n",
      "449/449 [==============================] - 335s 747ms/step - loss: 0.8464 - accuracy: 0.6801 - val_loss: 1.1748 - val_accuracy: 0.5701\n",
      "Epoch 33/50\n",
      "449/449 [==============================] - 329s 733ms/step - loss: 0.8315 - accuracy: 0.6878 - val_loss: 1.1840 - val_accuracy: 0.5765\n",
      "Epoch 34/50\n",
      "449/449 [==============================] - 325s 723ms/step - loss: 0.8190 - accuracy: 0.6844 - val_loss: 1.2026 - val_accuracy: 0.5840\n",
      "Epoch 35/50\n",
      "449/449 [==============================] - 344s 765ms/step - loss: 0.8104 - accuracy: 0.6920 - val_loss: 1.2413 - val_accuracy: 0.5798\n",
      "Epoch 36/50\n",
      "449/449 [==============================] - 338s 753ms/step - loss: 0.8005 - accuracy: 0.6996 - val_loss: 1.2352 - val_accuracy: 0.5740\n",
      "Epoch 37/50\n",
      "449/449 [==============================] - 338s 752ms/step - loss: 0.7888 - accuracy: 0.7031 - val_loss: 1.2101 - val_accuracy: 0.5915\n",
      "Epoch 38/50\n",
      "449/449 [==============================] - 346s 770ms/step - loss: 0.7735 - accuracy: 0.7086 - val_loss: 1.2272 - val_accuracy: 0.5821\n",
      "Epoch 39/50\n",
      "449/449 [==============================] - 337s 751ms/step - loss: 0.7621 - accuracy: 0.7127 - val_loss: 1.2459 - val_accuracy: 0.5832\n",
      "Epoch 40/50\n",
      "449/449 [==============================] - 333s 742ms/step - loss: 0.7544 - accuracy: 0.7151 - val_loss: 1.2254 - val_accuracy: 0.5857\n",
      "Epoch 41/50\n",
      "449/449 [==============================] - 339s 756ms/step - loss: 0.7417 - accuracy: 0.7236 - val_loss: 1.2789 - val_accuracy: 0.5793\n",
      "Epoch 42/50\n",
      "449/449 [==============================] - 324s 721ms/step - loss: 0.7400 - accuracy: 0.7207 - val_loss: 1.2928 - val_accuracy: 0.5851\n",
      "Epoch 43/50\n",
      "449/449 [==============================] - 332s 740ms/step - loss: 0.7295 - accuracy: 0.7240 - val_loss: 1.2797 - val_accuracy: 0.5915\n",
      "Epoch 44/50\n",
      "449/449 [==============================] - 322s 717ms/step - loss: 0.7207 - accuracy: 0.7295 - val_loss: 1.2418 - val_accuracy: 0.5801\n",
      "Epoch 45/50\n",
      "449/449 [==============================] - 315s 702ms/step - loss: 0.7084 - accuracy: 0.7342 - val_loss: 1.2763 - val_accuracy: 0.5790\n",
      "Epoch 46/50\n",
      "449/449 [==============================] - 456s 1s/step - loss: 0.7035 - accuracy: 0.7382 - val_loss: 1.2807 - val_accuracy: 0.5913\n",
      "Epoch 47/50\n",
      "449/449 [==============================] - 412s 918ms/step - loss: 0.6909 - accuracy: 0.7419 - val_loss: 1.2742 - val_accuracy: 0.5801\n",
      "Epoch 48/50\n",
      "449/449 [==============================] - 352s 784ms/step - loss: 0.6789 - accuracy: 0.7459 - val_loss: 1.2946 - val_accuracy: 0.5745\n",
      "Epoch 49/50\n",
      "449/449 [==============================] - 348s 775ms/step - loss: 0.6805 - accuracy: 0.7471 - val_loss: 1.3249 - val_accuracy: 0.5729\n",
      "Epoch 50/50\n",
      "449/449 [==============================] - 372s 829ms/step - loss: 0.6676 - accuracy: 0.7527 - val_loss: 1.3585 - val_accuracy: 0.5795\n"
     ]
    },
    {
     "data": {
      "text/plain": [
       "<tensorflow.python.keras.callbacks.History at 0x25498cf6508>"
      ]
     },
     "execution_count": 8,
     "metadata": {},
     "output_type": "execute_result"
    }
   ],
   "source": [
    "model.compile(loss=categorical_crossentropy,\n",
    "              optimizer=Adam(),\n",
    "              metrics=['accuracy'])\n",
    "\n",
    "#Training the model\n",
    "model.fit(X_train, train_y,\n",
    "          batch_size=batch_size,\n",
    "          epochs=epochs,\n",
    "          verbose=1,\n",
    "          validation_data=(X_test, test_y),\n",
    "          shuffle=True)\n"
   ]
  },
  {
   "cell_type": "code",
   "execution_count": null,
   "metadata": {
    "colab": {},
    "colab_type": "code",
    "id": "0BlDtdzfREPv"
   },
   "outputs": [],
   "source": [
    "fer_json = model.to_json()\n",
    "with open(\"fer.json\", \"w\") as json_file:\n",
    "    json_file.write(fer_json)\n",
    "model.save_weights(\"fer.h5\")"
   ]
  }
 ],
 "metadata": {
  "accelerator": "GPU",
  "colab": {
   "collapsed_sections": [],
   "name": "emotion_recog.ipynb",
   "provenance": []
  },
  "kernelspec": {
   "display_name": "Python 3",
   "language": "python",
   "name": "python3"
  },
  "language_info": {
   "codemirror_mode": {
    "name": "ipython",
    "version": 3
   },
   "file_extension": ".py",
   "mimetype": "text/x-python",
   "name": "python",
   "nbconvert_exporter": "python",
   "pygments_lexer": "ipython3",
   "version": "3.8.3"
  }
 },
 "nbformat": 4,
 "nbformat_minor": 1
}
